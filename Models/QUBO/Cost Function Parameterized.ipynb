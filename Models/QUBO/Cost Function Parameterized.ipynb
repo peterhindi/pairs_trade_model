{
 "cells": [
  {
   "cell_type": "code",
   "execution_count": 1,
   "id": "4b70fada-72c4-486f-81aa-ad202b3ff09c",
   "metadata": {},
   "outputs": [
    {
     "data": {
      "text/plain": [
       "costfunct (generic function with 1 method)"
      ]
     },
     "execution_count": 1,
     "metadata": {},
     "output_type": "execute_result"
    }
   ],
   "source": [
    "function costfunct(x, similarity, ask_price_df, bid_price_df)\n",
    "    summed_cost = 0\n",
    "    index_max = size(x)[1]\n",
    "    for i in 1:index_max\n",
    "        for j in 1:index_max\n",
    "            if j == index_max || i == index_max\n",
    "                continue\n",
    "            end\n",
    "            summed_cost += similarity[i,j]*(ask_price_df[j] - bid_price_df[i])*x[i,j]\n",
    "        end\n",
    "    end\n",
    "    return summed_cost\n",
    "end\n"
   ]
  }
 ],
 "metadata": {
  "kernelspec": {
   "display_name": "Julia 1.10.2",
   "language": "julia",
   "name": "julia-1.10"
  },
  "language_info": {
   "file_extension": ".jl",
   "mimetype": "application/julia",
   "name": "julia",
   "version": "1.10.2"
  }
 },
 "nbformat": 4,
 "nbformat_minor": 5
}
