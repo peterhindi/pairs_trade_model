{
 "cells": [
  {
   "cell_type": "code",
   "execution_count": 7,
   "id": "278524a0-fb2f-44c0-8194-69ea46c41792",
   "metadata": {},
   "outputs": [
    {
     "data": {
      "text/plain": [
       "penaltyfunction (generic function with 1 method)"
      ]
     },
     "execution_count": 7,
     "metadata": {},
     "output_type": "execute_result"
    }
   ],
   "source": [
    "#make number of assets dynamic\n",
    "function penaltyfunctt1(x)\n",
    "    summed_penalty = 0\n",
    "    index_max = size(x)[1]\n",
    "\n",
    "    for i in 1:index_max\n",
    "        for j in 1:index_max\n",
    "            for jprime in (j+1):index_max\n",
    "                summed_penalty+=x[i,j]*x[i,jprime]\n",
    "            end\n",
    "        end\n",
    "    end\n",
    "    return summed_penalty\n",
    "end\n",
    "\n",
    "function penaltyfunctt2(x)\n",
    "    index_max = size(x)[1]\n",
    "    summed_penalty = 0\n",
    "    for j in 1:index_max\n",
    "        for i in 1:index_max\n",
    "            for iprime = (i+1):index_max\n",
    "                summed_penalty+=x[i,j]*x[iprime,j]\n",
    "            end\n",
    "        end\n",
    "    end\n",
    "    return summed_penalty\n",
    "end    \n",
    "\n",
    "function penaltyfunctt3(x)\n",
    "    index_max = size(x)[1]\n",
    "    summed_total = 0\n",
    "    for i in 1:index_max\n",
    "        summed_penalty = 0\n",
    "        for j in 1:index_max\n",
    "            summed_penalty += x[i,j] - x[j,i]\n",
    "        end\n",
    "        summed_total += summed_penalty^2\n",
    "    end\n",
    "    return summed_total\n",
    "end\n",
    "\n",
    "function penaltyfunctt4(x)\n",
    "    index_max = size(x)[1]\n",
    "    summed_penalty = 0\n",
    "    for i in 1:index_max\n",
    "        for j in 1:index_max\n",
    "            summed_penalty += x[i,j]*x[j,i]\n",
    "        end\n",
    "    end\n",
    "    return summed_penalty\n",
    "end\n",
    "\n",
    "function penaltyfunctt5(x,tabu)\n",
    "    index_max = size(x)[1]\n",
    "    print(\"this is size $index_max\")\n",
    "    summed_penalty = 0\n",
    "    for i in 1:index_max\n",
    "        for j in 1:index_max\n",
    "            if [i,j] in tabu\n",
    "                summed_penalty += x[index_max,i]*x[j,index_max]\n",
    "            end\n",
    "        end\n",
    "    end\n",
    "    return summed_penalty\n",
    "end\n",
    "\n",
    "function penaltyfunction(x,tabu)\n",
    "    return penaltyfunctt5(x,tabu) + penaltyfunctt4(x) + penaltyfunctt3(x) + penaltyfunctt2(x) + penaltyfunctt1(x)\n",
    "end"
   ]
  },
  {
   "cell_type": "code",
   "execution_count": null,
   "id": "3208241e",
   "metadata": {},
   "outputs": [],
   "source": []
  }
 ],
 "metadata": {
  "kernelspec": {
   "display_name": "Julia 1.10.4",
   "language": "julia",
   "name": "julia-1.10"
  },
  "language_info": {
   "file_extension": ".jl",
   "mimetype": "application/julia",
   "name": "julia",
   "version": "1.11.1"
  }
 },
 "nbformat": 4,
 "nbformat_minor": 5
}
