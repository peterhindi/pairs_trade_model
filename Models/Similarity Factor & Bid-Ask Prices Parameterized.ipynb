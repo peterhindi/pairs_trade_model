{
 "cells": [
  {
   "cell_type": "code",
   "execution_count": 1,
   "id": "4528a5ab-26c1-4ca5-886d-572be470ec40",
   "metadata": {},
   "outputs": [
    {
     "name": "stderr",
     "output_type": "stream",
     "text": [
      "\u001b[36m\u001b[1m[ \u001b[22m\u001b[39m\u001b[36m\u001b[1mInfo: \u001b[22m\u001b[39mPrecompiling JuMP [4076af6c-e467-56ae-b986-b466b2749572] (cache misses: wrong dep version loaded (2))\n",
      "\u001b[36m\u001b[1m[ \u001b[22m\u001b[39m\u001b[36m\u001b[1mInfo: \u001b[22m\u001b[39mPrecompiling CSV [336ed68f-0bac-5ca0-87d4-7b16caf5d00b] (cache misses: wrong dep version loaded (2))\n",
      "\u001b[36m\u001b[1m[ \u001b[22m\u001b[39m\u001b[36m\u001b[1mInfo: \u001b[22m\u001b[39mPrecompiling Ipopt [b6b21f68-93f8-5de0-b562-5493be1d77c9] (cache misses: wrong dep version loaded (2))\n",
      "\u001b[36m\u001b[1m[ \u001b[22m\u001b[39m\u001b[36m\u001b[1mInfo: \u001b[22m\u001b[39mPrecompiling AmplNLWriter [7c4d4715-977e-5154-bfe0-e096adeac482] (cache misses: wrong dep version loaded (2))\n",
      "\u001b[36m\u001b[1m[ \u001b[22m\u001b[39m\u001b[36m\u001b[1mInfo: \u001b[22m\u001b[39mPrecompiling DynamicAxisWarping [aaaaaaaa-4a10-5553-b683-e707b00e83ce] (cache misses: wrong dep version loaded (2))\n",
      "\u001b[36m\u001b[1m[ \u001b[22m\u001b[39m\u001b[36m\u001b[1mInfo: \u001b[22m\u001b[39mPrecompiling PolynomialsMutableArithmeticsExt [2016f45f-0850-5d4f-b1e3-7a95b670587c] (cache misses: wrong dep version loaded (2))\n"
     ]
    }
   ],
   "source": [
    "#Import packages\n",
    "using JuMP, Pkg, CSV, DataFrames, Statistics, Plots, Ipopt, Combinatorics, Distances, LinearAlgebra, AmplNLWriter, NBInclude, DynamicAxisWarping\n"
   ]
  },
  {
   "cell_type": "code",
   "execution_count": null,
   "id": "b63a3f6d-4040-4a6b-a4ff-2ee268acd748",
   "metadata": {},
   "outputs": [
    {
     "data": {
      "text/plain": [
       "similarityfactor (generic function with 1 method)"
      ]
     },
     "execution_count": 2,
     "metadata": {},
     "output_type": "execute_result"
    }
   ],
   "source": [
    "\n",
    "#Create matrix of dynamic-time-warping distances between variables for weight calculation and return it\n",
    "function similarityfactor(twoddf)\n",
    "    num_stocks = length(twoddf)\n",
    "    similarity = zeros(num_stocks, num_stocks)\n",
    "    for ii in 1:num_stocks\n",
    "        for j in (ii+1):num_stocks\n",
    "            a1 = Array(select(twoddf[ii], \"price_index\"))\n",
    "            a2 = Array(select(twoddf[j], \"price_index\"))\n",
    "\n",
    "            b1 = Array(select(twoddf[ii], \"transaction_time\"))\n",
    "            b2 = Array(select(twoddf[j], \"transaction_time\"))\n",
    "\n",
    "            #create 2d vector with index price and transaction time\n",
    "            vector1 = hcat(a1, b1)'\n",
    "            vector2 = hcat(a2, b2)'\n",
    "            #calculate dtw\n",
    "            cost, discard, discard1 = dtw(vector1, vector2)\n",
    "\n",
    "            similarity[ii,j]= 1/(1+cost)\n",
    "\n",
    "        end\n",
    "    end\n",
    "    similarity = LinearAlgebra.Symmetric(similarity)\n",
    "    return similarity\n",
    "end"
   ]
  },
  {
   "cell_type": "code",
   "execution_count": 3,
   "id": "a495d15e-6603-4ebe-be5c-fa84cdd383d4",
   "metadata": {},
   "outputs": [],
   "source": [
    "#print(ask_price_df)\n",
    "#print(bid_price_df)\n",
    "\n",
    "#similarity = similarityfactor()\n",
    "#summed_cost = zeros(5,5)\n",
    "#  for i in 1:5\n",
    "#      for j in 1:5\n",
    "#          if j == 5 || i == 5\n",
    "#              summed_cost[i,j] = 0\n",
    "#              continue\n",
    "#         end\n",
    "#         summed_cost[i,j] = similarity[i,j]*(ask_price_df[j] - bid_price_df[i])\n",
    "#     end\n",
    "#  end\n",
    "#summed_cost\n",
    "\n",
    "#print(similarityfactor())\n",
    "#similarity[1,2]#*\n",
    "#print((ask_price_df[2] - bid_price_df[1]))\n",
    "#summed_cost"
   ]
  }
 ],
 "metadata": {
  "kernelspec": {
   "display_name": "Julia 1.10.4",
   "language": "julia",
   "name": "julia-1.10"
  },
  "language_info": {
   "file_extension": ".jl",
   "mimetype": "application/julia",
   "name": "julia",
   "version": "1.11.1"
  }
 },
 "nbformat": 4,
 "nbformat_minor": 5
}
